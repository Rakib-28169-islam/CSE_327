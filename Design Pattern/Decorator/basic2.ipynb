{
 "cells": [
  {
   "cell_type": "code",
   "execution_count": 10,
   "metadata": {},
   "outputs": [],
   "source": [
    "from abc import ABC, abstractmethod\n",
    "class Sandwich(ABC):\n",
    "    @abstractmethod\n",
    "    def cost(self):\n",
    "        pass\n",
    "    @abstractmethod\n",
    "    def description(self):\n",
    "        pass"
   ]
  },
  {
   "cell_type": "code",
   "execution_count": 11,
   "metadata": {},
   "outputs": [],
   "source": [
    "class SimpleSandwich(Sandwich):\n",
    "    price = 3\n",
    "    @classmethod\n",
    "    def cost(self):\n",
    "        return self.price\n",
    "    def description(self):\n",
    "        return \"Basic Sandwich with Normal Bread , Meat\""
   ]
  },
  {
   "cell_type": "code",
   "execution_count": 13,
   "metadata": {},
   "outputs": [],
   "source": [
    "class DeluxeSandwich(Sandwich):\n",
    "    price = 5\n",
    "    @classmethod\n",
    "    def cost(self):\n",
    "        return self.price\n",
    "    def description(self):\n",
    "        return \"Deluxe Sandwich with Special Bread , Meat and Cheese\""
   ]
  },
  {
   "cell_type": "code",
   "execution_count": 14,
   "metadata": {},
   "outputs": [],
   "source": [
    "class Decorator(Sandwich):\n",
    "    def __init__(self,sandwich:Sandwich):\n",
    "        self.sandwich = sandwich\n",
    "    def cost(self):\n",
    "        return self.sandwich.cost()\n",
    "    def description(self):\n",
    "        return self.sandwich.description()    "
   ]
  },
  {
   "cell_type": "code",
   "execution_count": 15,
   "metadata": {},
   "outputs": [],
   "source": [
    "class OuterDecorator(Decorator):\n",
    "    item = None\n",
    "    \n",
    "    def __init__(self,sandwich:Sandwich,item):\n",
    "        super().__init__(sandwich)\n",
    "        self.item = item\n",
    "        \n",
    "    def cost(self):\n",
    "        return self.sandwich.cost() + 1.20\n",
    "    def description(self):\n",
    "        return self.sandwich.description() + \" with \" + self.item\n",
    "        "
   ]
  },
  {
   "cell_type": "code",
   "execution_count": 16,
   "metadata": {},
   "outputs": [],
   "source": [
    "class InnerDecorator(Decorator):\n",
    "    item = None\n",
    "    \n",
    "    def __init__(self,sandwich:Sandwich,item):\n",
    "        super().__init__(sandwich)\n",
    "        self.item = item\n",
    "        \n",
    "    def cost(self):\n",
    "        return self.sandwich.cost() + 1.50\n",
    "    def description(self):\n",
    "        return self.sandwich.description() + \" with \" + self.item"
   ]
  },
  {
   "cell_type": "code",
   "execution_count": 17,
   "metadata": {},
   "outputs": [],
   "source": [
    "def final_product(sandwich:Sandwich):\n",
    "    print(\"Total cost : -> \",sandwich.cost())\n",
    "    print(\"Description : -> \",sandwich.description())"
   ]
  },
  {
   "cell_type": "code",
   "execution_count": 19,
   "metadata": {},
   "outputs": [
    {
     "name": "stdout",
     "output_type": "stream",
     "text": [
      "Total cost : ->  10.2\n",
      "Description : ->  Basic Sandwich with Normal Bread , Meat with Tomato with Lettuce with Mayo with Pickles with Cheese\n"
     ]
    }
   ],
   "source": [
    "sandwich = SimpleSandwich()\n",
    "sandwich = InnerDecorator(sandwich,\"Tomato\")\n",
    "sandwich = InnerDecorator(sandwich,\"Lettuce\")\n",
    "sandwich = InnerDecorator(sandwich,\"Mayo\")\n",
    "sandwich = OuterDecorator(sandwich,\"Pickles\")\n",
    "sandwich = InnerDecorator(sandwich,\"Cheese\")\n",
    "\n",
    "final_product(sandwich)"
   ]
  },
  {
   "cell_type": "code",
   "execution_count": null,
   "metadata": {},
   "outputs": [],
   "source": []
  },
  {
   "cell_type": "code",
   "execution_count": null,
   "metadata": {},
   "outputs": [],
   "source": []
  },
  {
   "cell_type": "code",
   "execution_count": null,
   "metadata": {},
   "outputs": [],
   "source": []
  },
  {
   "cell_type": "code",
   "execution_count": null,
   "metadata": {},
   "outputs": [],
   "source": []
  },
  {
   "cell_type": "code",
   "execution_count": null,
   "metadata": {},
   "outputs": [],
   "source": []
  }
 ],
 "metadata": {
  "kernelspec": {
   "display_name": "Python 3",
   "language": "python",
   "name": "python3"
  },
  "language_info": {
   "codemirror_mode": {
    "name": "ipython",
    "version": 3
   },
   "file_extension": ".py",
   "mimetype": "text/x-python",
   "name": "python",
   "nbconvert_exporter": "python",
   "pygments_lexer": "ipython3",
   "version": "3.11.4"
  }
 },
 "nbformat": 4,
 "nbformat_minor": 2
}
