{
 "cells": [
  {
   "cell_type": "code",
   "execution_count": 8,
   "metadata": {},
   "outputs": [],
   "source": [
    "from abc import ABC, abstractmethod\n",
    "\n",
    "class Coffee(ABC):\n",
    "    def getCost(self):\n",
    "        pass\n",
    "    def getDescription(self):\n",
    "        pass"
   ]
  },
  {
   "cell_type": "code",
   "execution_count": 9,
   "metadata": {},
   "outputs": [],
   "source": [
    "class SimpleCoffee(Coffee):\n",
    "    def getCost(self):\n",
    "        return 5\n",
    "    def getDescription(self):\n",
    "        return \"Simple Coffee\""
   ]
  },
  {
   "cell_type": "code",
   "execution_count": 10,
   "metadata": {},
   "outputs": [],
   "source": [
    "class CoffeeDecorator(Coffee):\n",
    "    def __init__(self,coffee:Coffee):\n",
    "        self.coffee = coffee\n",
    "    def getCost(self):\n",
    "        return self.coffee.getCost()\n",
    "    def getDescription(self):\n",
    "        return self.coffee.getDescription()\n",
    "        "
   ]
  },
  {
   "cell_type": "code",
   "execution_count": 11,
   "metadata": {},
   "outputs": [],
   "source": [
    "class Milk(CoffeeDecorator):\n",
    "    def __init__(self,coffee:Coffee):\n",
    "        super().__init__(coffee)\n",
    "        \n",
    "    def getCost(self):\n",
    "        return self.coffee.getCost() + 2\n",
    "    def getDescription(self):\n",
    "        return self.coffee.getDescription() + \", Milk\"    "
   ]
  },
  {
   "cell_type": "code",
   "execution_count": 12,
   "metadata": {},
   "outputs": [],
   "source": [
    "class Caramel(CoffeeDecorator):\n",
    "    def __init__(self,coffee:Coffee):\n",
    "        super().__init__(coffee)\n",
    "    def getCost(self):    \n",
    "        return self.coffee.getCost() + 3\n",
    "    def getDescription(self):\n",
    "        return self.coffee.getDescription() + \", Caramel\""
   ]
  },
  {
   "cell_type": "code",
   "execution_count": 13,
   "metadata": {},
   "outputs": [
    {
     "name": "stdout",
     "output_type": "stream",
     "text": [
      "5\n",
      "Simple Coffee\n",
      "7\n",
      "Simple Coffee, Milk\n",
      "10\n",
      "Simple Coffee, Milk, Caramel\n"
     ]
    }
   ],
   "source": [
    "coffee = SimpleCoffee()\n",
    "print(coffee.getCost())\n",
    "print(coffee.getDescription())\n",
    "coffee = Milk(coffee)\n",
    "print(coffee.getCost())\n",
    "print(coffee.getDescription())\n",
    "coffee = Caramel(coffee)\n",
    "print(coffee.getCost())\n",
    "print(coffee.getDescription())"
   ]
  },
  {
   "cell_type": "code",
   "execution_count": null,
   "metadata": {},
   "outputs": [],
   "source": []
  },
  {
   "cell_type": "code",
   "execution_count": null,
   "metadata": {},
   "outputs": [],
   "source": []
  }
 ],
 "metadata": {
  "kernelspec": {
   "display_name": "Python 3",
   "language": "python",
   "name": "python3"
  },
  "language_info": {
   "codemirror_mode": {
    "name": "ipython",
    "version": 3
   },
   "file_extension": ".py",
   "mimetype": "text/x-python",
   "name": "python",
   "nbconvert_exporter": "python",
   "pygments_lexer": "ipython3",
   "version": "3.11.4"
  }
 },
 "nbformat": 4,
 "nbformat_minor": 2
}
