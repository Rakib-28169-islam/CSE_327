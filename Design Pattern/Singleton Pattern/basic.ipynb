{
 "cells": [
  {
   "cell_type": "code",
   "execution_count": 1,
   "metadata": {},
   "outputs": [],
   "source": [
    "class Logger:\n",
    "    _instance = None\n",
    "    \n",
    "    @classmethod\n",
    "    def getInstance(cls):\n",
    "        if cls._instance is None:\n",
    "            cls._instance = cls()\n",
    "            print(\"Creating Logger instance\")\n",
    "        return cls._instance \n",
    "    def print(self,msg):\n",
    "        print(msg)   "
   ]
  },
  {
   "cell_type": "code",
   "execution_count": 2,
   "metadata": {},
   "outputs": [
    {
     "name": "stdout",
     "output_type": "stream",
     "text": [
      "Creating Logger instance\n",
      "Hello\n",
      "World\n"
     ]
    }
   ],
   "source": [
    "logger1 = Logger.getInstance()\n",
    "logger1.print(\"Hello\")\n",
    "logger2  = Logger.getInstance()\n",
    "logger2.print(\"World\")"
   ]
  }
 ],
 "metadata": {
  "kernelspec": {
   "display_name": "Python 3",
   "language": "python",
   "name": "python3"
  },
  "language_info": {
   "codemirror_mode": {
    "name": "ipython",
    "version": 3
   },
   "file_extension": ".py",
   "mimetype": "text/x-python",
   "name": "python",
   "nbconvert_exporter": "python",
   "pygments_lexer": "ipython3",
   "version": "3.11.4"
  }
 },
 "nbformat": 4,
 "nbformat_minor": 2
}
