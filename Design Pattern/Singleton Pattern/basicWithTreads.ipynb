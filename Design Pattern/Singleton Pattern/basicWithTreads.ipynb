{
 "cells": [
  {
   "cell_type": "code",
   "execution_count": 8,
   "metadata": {},
   "outputs": [],
   "source": [
    "import threading\n",
    "\n",
    "class Logger:\n",
    "    _instance = None\n",
    "    _lock = threading.Lock()\n",
    "    \n",
    "    @classmethod\n",
    "    def getInstance(cls):\n",
    "        with cls._lock:\n",
    "            if cls._instance is None:\n",
    "                cls._instance = cls()\n",
    "                print(\"Logger instance created\")\n",
    "            return cls._instance\n",
    "        \n",
    "    def print(self, msg):\n",
    "        print(msg)"
   ]
  },
  {
   "cell_type": "code",
   "execution_count": 9,
   "metadata": {},
   "outputs": [],
   "source": [
    "def create_logger():\n",
    "    logger = Logger.getInstance()\n",
    "    logger.print(\"Hello\")"
   ]
  },
  {
   "cell_type": "code",
   "execution_count": 11,
   "metadata": {},
   "outputs": [
    {
     "name": "stdout",
     "output_type": "stream",
     "text": [
      "Hello\n",
      "Hello\n",
      "Hello\n",
      "Hello\n",
      "Hello\n",
      "Hello\n",
      "Hello\n",
      "True\n"
     ]
    }
   ],
   "source": [
    "threads = []\n",
    "for i in range(5):\n",
    "    thread =threading.Thread(target = create_logger)\n",
    "    threads.append(thread)\n",
    "    thread.start()\n",
    "\n",
    "for thread in threads:\n",
    "    thread.join()\n",
    "   \n",
    "logger1 = Logger.getInstance()\n",
    "logger1.print(\"Hello\")\n",
    "logger2 = Logger.getInstance()\n",
    "logger2.print(\"Hello\")\n",
    "print(logger1 is logger2)    \n",
    "    "
   ]
  }
 ],
 "metadata": {
  "kernelspec": {
   "display_name": "Python 3",
   "language": "python",
   "name": "python3"
  },
  "language_info": {
   "codemirror_mode": {
    "name": "ipython",
    "version": 3
   },
   "file_extension": ".py",
   "mimetype": "text/x-python",
   "name": "python",
   "nbconvert_exporter": "python",
   "pygments_lexer": "ipython3",
   "version": "3.11.4"
  }
 },
 "nbformat": 4,
 "nbformat_minor": 2
}
