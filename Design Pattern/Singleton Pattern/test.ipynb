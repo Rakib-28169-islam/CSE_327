{
 "cells": [
  {
   "cell_type": "code",
   "execution_count": 1,
   "metadata": {},
   "outputs": [],
   "source": [
    "import logging\n",
    "\n",
    "# Configure logging to store messages in a file\n",
    "logging.basicConfig(\n",
    "    filename=\"bank.log\",   # Log file name\n",
    "    level=logging.INFO,     # Log level (INFO, ERROR, etc.)\n",
    "    format=\"%(asctime)s - %(levelname)s - %(message)s\"\n",
    ")\n",
    "\n",
    "def withdraw_money(amount):\n",
    "    logging.info(f\"User withdrew ${amount} successfully\")\n",
    "\n",
    "withdraw_money(100)\n",
    "withdraw_money(50)\n"
   ]
  },
  {
   "cell_type": "code",
   "execution_count": 2,
   "metadata": {},
   "outputs": [],
   "source": [
    "for i in range(5):\n",
    "    withdraw_money(i*100)"
   ]
  },
  {
   "cell_type": "code",
   "execution_count": 3,
   "metadata": {},
   "outputs": [],
   "source": [
    "\n",
    "logging.debug(\"This is a debug message\")   # For developers\n",
    "logging.info(\"Application started\")        # Normal event\n",
    "logging.warning(\"Low disk space warning\")  # Something unusual\n",
    "logging.error(\"Failed to open file\")       # Something is wrong\n",
    "logging.critical(\"System crash!\") "
   ]
  },
  {
   "cell_type": "code",
   "execution_count": null,
   "metadata": {},
   "outputs": [],
   "source": []
  }
 ],
 "metadata": {
  "kernelspec": {
   "display_name": "Python 3",
   "language": "python",
   "name": "python3"
  },
  "language_info": {
   "codemirror_mode": {
    "name": "ipython",
    "version": 3
   },
   "file_extension": ".py",
   "mimetype": "text/x-python",
   "name": "python",
   "nbconvert_exporter": "python",
   "pygments_lexer": "ipython3",
   "version": "3.11.4"
  }
 },
 "nbformat": 4,
 "nbformat_minor": 2
}
