{
 "cells": [
  {
   "cell_type": "code",
   "execution_count": 6,
   "metadata": {},
   "outputs": [],
   "source": [
    "from abc  import ABC, abstractmethod\n",
    "class Strategy(ABC):\n",
    "     @abstractmethod\n",
    "     def execute(self):\n",
    "         pass\n",
    "      "
   ]
  },
  {
   "cell_type": "code",
   "execution_count": 7,
   "metadata": {},
   "outputs": [],
   "source": [
    "class Context:\n",
    "    def __init__(self):\n",
    "        self.strategy= None\n",
    "    def set_strategy(self,strategy:Strategy):\n",
    "        if strategy is not None:\n",
    "            self.strategy=strategy\n",
    "    def context_execute(self):\n",
    "        if  self.strategy is not None:\n",
    "            self.strategy.execute()\n",
    "                  "
   ]
  },
  {
   "cell_type": "code",
   "execution_count": 8,
   "metadata": {},
   "outputs": [],
   "source": [
    "class StrategyA(Strategy):\n",
    "      def execute(self):\n",
    "           print(\"Strategy A executed\")\n",
    "class StrategyB(Strategy):\n",
    "      def execute(self):\n",
    "          print(\"Strategy B executed\")\n",
    "class StrategyC(Strategy):\n",
    "      def execute(self):\n",
    "        print(\"Strategy C executed\")\n",
    "           "
   ]
  },
  {
   "cell_type": "code",
   "execution_count": 11,
   "metadata": {},
   "outputs": [
    {
     "name": "stdout",
     "output_type": "stream",
     "text": [
      "Strategy A executed\n",
      "Strategy B executed\n"
     ]
    }
   ],
   "source": [
    "\n",
    "if __name__ == \"__main__\":\n",
    "    context=Context()\n",
    "    context.set_strategy(StrategyA())\n",
    "    context.context_execute()\n",
    "    \n",
    "    context.set_strategy(StrategyB())\n",
    "    context.context_execute()"
   ]
  },
  {
   "cell_type": "code",
   "execution_count": null,
   "metadata": {},
   "outputs": [],
   "source": []
  },
  {
   "cell_type": "code",
   "execution_count": null,
   "metadata": {},
   "outputs": [],
   "source": []
  },
  {
   "cell_type": "code",
   "execution_count": null,
   "metadata": {},
   "outputs": [],
   "source": []
  },
  {
   "cell_type": "code",
   "execution_count": null,
   "metadata": {},
   "outputs": [],
   "source": []
  },
  {
   "cell_type": "code",
   "execution_count": null,
   "metadata": {},
   "outputs": [],
   "source": []
  },
  {
   "cell_type": "code",
   "execution_count": null,
   "metadata": {},
   "outputs": [],
   "source": []
  }
 ],
 "metadata": {
  "kernelspec": {
   "display_name": "Python 3",
   "language": "python",
   "name": "python3"
  },
  "language_info": {
   "codemirror_mode": {
    "name": "ipython",
    "version": 3
   },
   "file_extension": ".py",
   "mimetype": "text/x-python",
   "name": "python",
   "nbconvert_exporter": "python",
   "pygments_lexer": "ipython3",
   "version": "3.11.4"
  }
 },
 "nbformat": 4,
 "nbformat_minor": 2
}
