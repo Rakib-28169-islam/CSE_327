{
 "cells": [
  {
   "cell_type": "code",
   "execution_count": 1,
   "metadata": {},
   "outputs": [],
   "source": [
    "from abc import ABC, abstractmethod\n",
    "class Observer(ABC):\n",
    "    @abstractmethod\n",
    "    def update(self,temperature:float,humidity:float,pressure:float)->None:\n",
    "        pass\n",
    "    "
   ]
  },
  {
   "cell_type": "code",
   "execution_count": 2,
   "metadata": {},
   "outputs": [],
   "source": [
    "class Subject(ABC):\n",
    "    @abstractmethod\n",
    "    def register(self,observer:Observer)->None:\n",
    "        pass\n",
    "    @abstractmethod\n",
    "    def unRegister(self,observer:Observer)->None:\n",
    "        pass\n",
    "    @abstractmethod\n",
    "    def notify(self)->None:\n",
    "        pass"
   ]
  },
  {
   "cell_type": "code",
   "execution_count": 10,
   "metadata": {},
   "outputs": [],
   "source": [
    "class weatherStation(Subject):\n",
    "    def __init__(self):\n",
    "        self.observers=[]\n",
    "        self.temperature=0.0\n",
    "        self.humidity=0.0\n",
    "        self.pressure=0.0\n",
    "    def register(self,observer:Observer):\n",
    "        if observer not in self.observers:\n",
    "               self.observers.append(observer)\n",
    "    def unRegister(self, observer:Observer):\n",
    "        if observer in self.observers:\n",
    "               self.observers.remove(observer)\n",
    "        \n",
    "    def notify(self):\n",
    "       for observer in self.observers:\n",
    "           observer.update(self.temperature,self.humidity,self.pressure)\n",
    "    def setInformation(self,temperature:float,humidity:float,pressure:float):\n",
    "        self.temperature=temperature\n",
    "        self.humidity=humidity\n",
    "        self.pressure=pressure\n",
    "        self.notify()\n",
    "                              "
   ]
  },
  {
   "cell_type": "code",
   "execution_count": 11,
   "metadata": {},
   "outputs": [],
   "source": [
    "class user(Observer):\n",
    "    def __init__(self,id):\n",
    "        self.id=id\n",
    "    def update(self,temperature:float,humidity:float,pressure:float):\n",
    "        print(f\"User {self.id} received update: {temperature}C, {humidity}%, {pressure}Pa\")\n",
    "        "
   ]
  },
  {
   "cell_type": "code",
   "execution_count": 14,
   "metadata": {},
   "outputs": [
    {
     "name": "stdout",
     "output_type": "stream",
     "text": [
      "User 1 received update: 25.0C, 50.0%, 1013.0Pa\n",
      "User 2 received update: 25.0C, 50.0%, 1013.0Pa\n",
      "User 3 received update: 25.0C, 50.0%, 1013.0Pa\n",
      "User 1 received update: 30.0C, 60.0%, 1014.0Pa\n",
      "User 3 received update: 30.0C, 60.0%, 1014.0Pa\n"
     ]
    }
   ],
   "source": [
    "if __name__ == \"__main__\":\n",
    "    \n",
    "    weather=weatherStation()\n",
    "    user1 = user(1)\n",
    "    user2 = user(2)\n",
    "    user3 = user(3)\n",
    "    \n",
    "    weather.register(user1)\n",
    "    weather.register(user2)\n",
    "    weather.register(user3)\n",
    "    weather.setInformation(25.0,50.0,1013.0)\n",
    "    weather.unRegister(user2)\n",
    "    weather.setInformation(30.0,60.0,1014.0)\n",
    "    "
   ]
  },
  {
   "cell_type": "code",
   "execution_count": null,
   "metadata": {},
   "outputs": [],
   "source": []
  },
  {
   "cell_type": "code",
   "execution_count": null,
   "metadata": {},
   "outputs": [],
   "source": []
  },
  {
   "cell_type": "code",
   "execution_count": null,
   "metadata": {},
   "outputs": [],
   "source": []
  },
  {
   "cell_type": "code",
   "execution_count": null,
   "metadata": {},
   "outputs": [],
   "source": []
  }
 ],
 "metadata": {
  "kernelspec": {
   "display_name": "Python 3",
   "language": "python",
   "name": "python3"
  },
  "language_info": {
   "codemirror_mode": {
    "name": "ipython",
    "version": 3
   },
   "file_extension": ".py",
   "mimetype": "text/x-python",
   "name": "python",
   "nbconvert_exporter": "python",
   "pygments_lexer": "ipython3",
   "version": "3.11.4"
  }
 },
 "nbformat": 4,
 "nbformat_minor": 2
}
