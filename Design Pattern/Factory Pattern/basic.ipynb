{
 "cells": [
  {
   "cell_type": "code",
   "execution_count": 11,
   "metadata": {},
   "outputs": [],
   "source": [
    "from abc import ABC,abstractmethod\n",
    "class PaymentProcessor(ABC):\n",
    "    @abstractmethod\n",
    "    def process_payment(self,amount):\n",
    "        pass"
   ]
  },
  {
   "cell_type": "code",
   "execution_count": 12,
   "metadata": {},
   "outputs": [],
   "source": [
    "#subclass of PaymentProcessor\n",
    "class DebitPaymentProcessor(PaymentProcessor):\n",
    "    def process_payment(self, amount):\n",
    "        return f'Debit payment of {amount} processed'\n",
    "\n",
    "class CreditPaymentProcessor(PaymentProcessor):\n",
    "    def process_payment(self, amount):\n",
    "        return f'Credit payment of {amount} processed'"
   ]
  },
  {
   "cell_type": "code",
   "execution_count": 13,
   "metadata": {},
   "outputs": [],
   "source": [
    "#Factory abstract class\n",
    "class PaymentProcessorFactory:\n",
    "    @abstractmethod\n",
    "    def create_payment_processor(self):\n",
    "        pass\n",
    "    "
   ]
  },
  {
   "cell_type": "code",
   "execution_count": 14,
   "metadata": {},
   "outputs": [],
   "source": [
    "#subclass of PaymentProcessorFactory\n",
    "class DebitPaymentProcessorFactory(PaymentProcessorFactory):\n",
    "    def create_payment_processor(self):\n",
    "        return DebitPaymentProcessor()\n",
    "    \n",
    "class CreditPaymentProcessorFactory(PaymentProcessorFactory):\n",
    "    def create_payment_processor(self):\n",
    "        return CreditPaymentProcessor()    "
   ]
  },
  {
   "cell_type": "markdown",
   "metadata": {},
   "source": [
    "### Main"
   ]
  },
  {
   "cell_type": "code",
   "execution_count": 15,
   "metadata": {},
   "outputs": [
    {
     "data": {
      "text/plain": [
       "'Credit payment of 100 processed'"
      ]
     },
     "execution_count": 15,
     "metadata": {},
     "output_type": "execute_result"
    }
   ],
   "source": [
    "factory = CreditPaymentProcessorFactory().create_payment_processor()\n",
    "factory.process_payment(100)\n",
    "        "
   ]
  },
  {
   "cell_type": "code",
   "execution_count": null,
   "metadata": {},
   "outputs": [],
   "source": []
  },
  {
   "cell_type": "code",
   "execution_count": null,
   "metadata": {},
   "outputs": [],
   "source": []
  },
  {
   "cell_type": "code",
   "execution_count": null,
   "metadata": {},
   "outputs": [],
   "source": []
  },
  {
   "cell_type": "code",
   "execution_count": null,
   "metadata": {},
   "outputs": [],
   "source": []
  },
  {
   "cell_type": "code",
   "execution_count": null,
   "metadata": {},
   "outputs": [],
   "source": []
  },
  {
   "cell_type": "code",
   "execution_count": null,
   "metadata": {},
   "outputs": [],
   "source": []
  }
 ],
 "metadata": {
  "kernelspec": {
   "display_name": "Python 3",
   "language": "python",
   "name": "python3"
  },
  "language_info": {
   "codemirror_mode": {
    "name": "ipython",
    "version": 3
   },
   "file_extension": ".py",
   "mimetype": "text/x-python",
   "name": "python",
   "nbconvert_exporter": "python",
   "pygments_lexer": "ipython3",
   "version": "3.11.4"
  }
 },
 "nbformat": 4,
 "nbformat_minor": 2
}
